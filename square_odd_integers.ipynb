{
 "cells": [
  {
   "cell_type": "markdown",
   "metadata": {
    "vscode": {
     "languageId": "plaintext"
    }
   },
   "source": [
    "## Lab exercise 1\n",
    "\n",
    "from a given list of integers, create a new list using comprehension that will compute the square of odd integer elements.\n",
    "\n",
    "sample calls\n",
    "\n",
    "[2,4,3] == [9]\n",
    "[0,0,1,1] == [1,1]\n"
   ]
  },
  {
   "cell_type": "code",
   "execution_count": 1,
   "metadata": {},
   "outputs": [
    {
     "name": "stdout",
     "output_type": "stream",
     "text": [
      "[9]\n",
      "[1, 1]\n"
     ]
    }
   ],
   "source": [
    "# solution here\n",
    "\n",
    "class ListCalculator:\n",
    "    def __init__(self, integers):\n",
    "        self.integers = integers\n",
    "\n",
    "    def square_odd(self):\n",
    "        odd_numbers = [n**2 for n in self.integers if (n % 2 != 0)]\n",
    "        return odd_numbers\n",
    "\n",
    "list_1 = [2, 4, 3]\n",
    "list_2 = [0, 0, 1, 1]\n",
    "squared_list1 = ListCalculator(list_1).square_odd()\n",
    "squared_list2 = ListCalculator(list_2).square_odd()\n",
    "\n",
    "print(squared_list1)\n",
    "print(squared_list2)"
   ]
  }
 ],
 "metadata": {
  "kernelspec": {
   "display_name": "Python 3",
   "language": "python",
   "name": "python3"
  },
  "language_info": {
   "codemirror_mode": {
    "name": "ipython",
    "version": 3
   },
   "file_extension": ".py",
   "mimetype": "text/x-python",
   "name": "python",
   "nbconvert_exporter": "python",
   "pygments_lexer": "ipython3",
   "version": "3.12.0"
  }
 },
 "nbformat": 4,
 "nbformat_minor": 2
}
